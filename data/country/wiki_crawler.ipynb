{
 "cells": [
  {
   "cell_type": "code",
   "execution_count": 1,
   "metadata": {},
   "outputs": [],
   "source": [
    "import pandas as pd\n",
    "import numpy as np\n",
    "import sqlite3 as db\n",
    "from datetime import datetime\n",
    "import urllib\n",
    "import os\n",
    "import requests\n",
    "from pyquery import PyQuery  \n",
    "\n",
    "\n",
    "con = db.connect(database=\"../db.sqlite\")"
   ]
  },
  {
   "cell_type": "code",
   "execution_count": 14,
   "metadata": {},
   "outputs": [],
   "source": [
    "cursor = con.cursor()\n",
    "cursor.execute(\"select CountryCode, Name from Country\")\n",
    "\n",
    "list = []\n",
    "\n",
    "for row in cursor.fetchall():\n",
    "    list.append(row[0])"
   ]
  },
  {
   "cell_type": "code",
   "execution_count": 18,
   "metadata": {},
   "outputs": [],
   "source": [
    "link = \"https://www.iban.com/country-codes\"\n",
    "\n",
    "result = requests.get(link, headers={\n",
    "    'User-Agent': \"Mozilla/5.0 (Windows NT 10.0; Win64; x64; rv:96.0) Gecko/20100101 Firefox/96.0\",\n",
    "})\n",
    "\n",
    "pq = PyQuery(result.text)\n",
    "\n",
    "table = PyQuery(pq(\"#myTable\"))\n",
    "\n",
    "threeLetterCodes = table(\"td:nth-child(3)\").text().split(' ')\n",
    "twoLetterCodes = table(\"td:nth-child(2)\").text().split(' ')\n",
    "\n",
    "\n",
    "for i in range(0, len(threeLetterCodes)):\n",
    "    lc3 = threeLetterCodes[i]\n",
    "    lc2 = twoLetterCodes[i]\n",
    "    \n",
    "    \n",
    "    if lc3 in list:      \n",
    "        cursor.execute(\"\"\"update Country set FlagCode = ? where CountryCode = ?\"\"\",\n",
    "                       (lc2,lc3))\n",
    "\n",
    "\n",
    "con.commit()\n",
    "\n",
    "\n"
   ]
  }
 ],
 "metadata": {
  "interpreter": {
   "hash": "3bbe4b04bbda9182dee05bae70819db83e74172125e017501bfa1cf45b554296"
  },
  "kernelspec": {
   "display_name": "Python 3.10.1 64-bit",
   "language": "python",
   "name": "python3"
  },
  "language_info": {
   "codemirror_mode": {
    "name": "ipython",
    "version": 3
   },
   "file_extension": ".py",
   "mimetype": "text/x-python",
   "name": "python",
   "nbconvert_exporter": "python",
   "pygments_lexer": "ipython3",
   "version": "3.10.1"
  },
  "orig_nbformat": 4
 },
 "nbformat": 4,
 "nbformat_minor": 2
}
