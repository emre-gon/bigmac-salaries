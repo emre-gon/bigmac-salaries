{
 "cells": [
  {
   "cell_type": "code",
   "execution_count": 1,
   "metadata": {},
   "outputs": [],
   "source": [
    "import pandas as pd\n",
    "import numpy as np\n",
    "import sqlite3 as db\n",
    "from datetime import datetime\n",
    "import urllib\n",
    "import os\n",
    "\n",
    "from selenium import webdriver\n",
    "from webdriver_manager.firefox import GeckoDriverManager\n",
    "\n",
    "import time"
   ]
  },
  {
   "cell_type": "code",
   "execution_count": 2,
   "metadata": {},
   "outputs": [
    {
     "name": "stderr",
     "output_type": "stream",
     "text": [
      "\n",
      "\n",
      "====== WebDriver manager ======\n",
      "Current firefox version is 104.0\n",
      "Get LATEST geckodriver version for 104.0 firefox\n",
      "Getting latest mozilla release info for v0.31.0\n",
      "Trying to download new driver from https://github.com/mozilla/geckodriver/releases/download/v0.31.0/geckodriver-v0.31.0-win64.zip\n",
      "Driver has been saved in cache [C:\\Users\\egonu\\.wdm\\drivers\\geckodriver\\win64\\v0.31.0]\n",
      "C:\\Users\\egonu\\AppData\\Local\\Temp/ipykernel_28912/117907651.py:1: DeprecationWarning: executable_path has been deprecated, please pass in a Service object\n",
      "  driver = webdriver.Firefox(executable_path=GeckoDriverManager().install())\n"
     ]
    }
   ],
   "source": [
    "\n",
    "\n",
    "driver = webdriver.Firefox(executable_path=GeckoDriverManager().install())\n"
   ]
  },
  {
   "cell_type": "code",
   "execution_count": 3,
   "metadata": {},
   "outputs": [
    {
     "name": "stdout",
     "output_type": "stream",
     "text": [
      "timeout\n"
     ]
    }
   ],
   "source": [
    "\n",
    "bigmacLink = \"https://siparis.mcdonalds.com.tr/productv2/?pid=41\"\n",
    "\n",
    "driver.set_page_load_timeout(20)\n",
    "\n",
    "try:\n",
    "    driver.get(bigmacLink)\n",
    "except:\n",
    "    print(\"timeout\")\n",
    "    time.sleep(2)\n",
    "\n",
    "html = driver.page_source\n",
    "\n",
    "# close web browser\n",
    "driver.close()"
   ]
  },
  {
   "cell_type": "code",
   "execution_count": 4,
   "metadata": {},
   "outputs": [
    {
     "name": "stdout",
     "output_type": "stream",
     "text": [
      "new price: 70.00\n"
     ]
    },
    {
     "ename": "TypeError",
     "evalue": "can only concatenate str (not \"float\") to str",
     "output_type": "error",
     "traceback": [
      "\u001b[1;31m---------------------------------------------------------------------------\u001b[0m",
      "\u001b[1;31mTypeError\u001b[0m                                 Traceback (most recent call last)",
      "\u001b[1;32m~\\AppData\\Local\\Temp/ipykernel_28912/3992122867.py\u001b[0m in \u001b[0;36m<module>\u001b[1;34m\u001b[0m\n\u001b[0;32m      8\u001b[0m \u001b[0mprint\u001b[0m\u001b[1;33m(\u001b[0m\u001b[1;34m\"new price: \"\u001b[0m \u001b[1;33m+\u001b[0m \u001b[0mpriceTxt\u001b[0m\u001b[1;33m)\u001b[0m\u001b[1;33m\u001b[0m\u001b[1;33m\u001b[0m\u001b[0m\n\u001b[0;32m      9\u001b[0m \u001b[0mprice\u001b[0m \u001b[1;33m=\u001b[0m \u001b[0mfloat\u001b[0m\u001b[1;33m(\u001b[0m\u001b[0mpriceTxt\u001b[0m\u001b[1;33m)\u001b[0m\u001b[1;33m\u001b[0m\u001b[1;33m\u001b[0m\u001b[0m\n\u001b[1;32m---> 10\u001b[1;33m \u001b[0mprint\u001b[0m\u001b[1;33m(\u001b[0m\u001b[1;34m\"new price: \"\u001b[0m \u001b[1;33m+\u001b[0m \u001b[0mprice\u001b[0m\u001b[1;33m)\u001b[0m\u001b[1;33m\u001b[0m\u001b[1;33m\u001b[0m\u001b[0m\n\u001b[0m",
      "\u001b[1;31mTypeError\u001b[0m: can only concatenate str (not \"float\") to str"
     ]
    }
   ],
   "source": [
    "\n",
    "from pyquery import PyQuery  \n",
    "\n",
    "pq = PyQuery(html)\n",
    "\n",
    "\n",
    "priceTxt = pq(\".item-price\").text().replace(\",\",\".\")\n",
    "\n",
    "print(\"new price: \" + priceTxt)\n",
    "price = float(priceTxt)"
   ]
  },
  {
   "cell_type": "code",
   "execution_count": null,
   "metadata": {},
   "outputs": [
    {
     "name": "stdout",
     "output_type": "stream",
     "text": [
      "50.0\n",
      "different price\n",
      "13.2905\n",
      "4.288777698355968\n"
     ]
    }
   ],
   "source": [
    "\n",
    "con = db.connect(database=\"../db.sqlite\")\n",
    "cursor = con.cursor()\n",
    "\n",
    "cursor.execute(\"\"\"select LocalPrice from BigMacPrice\n",
    "                where Country_id = 'TUR'\n",
    "                order by Date desc\n",
    "                limit 1\"\"\")\n",
    "\n",
    "\n",
    "\n",
    "\n",
    "latestPrice = cursor.fetchall()[0][0]\n",
    "print(latestPrice)\n",
    "\n",
    "if price != latestPrice:    \n",
    "    print(\"different price\")\n",
    "    print(price)\n",
    "    \n",
    "    cursor.execute(\"\"\"select Close from CurrencyUSDValue\n",
    "                    where Currency_id = 'TRY'\n",
    "                    order by Date desc\n",
    "                    limit 1\"\"\")\n",
    "    \n",
    "    currClose = cursor.fetchall()[0][0]\n",
    "    \n",
    "    print(currClose)\n",
    "    \n",
    "    usdPrice = price / currClose\n",
    "    \n",
    "    print(usdPrice)\n",
    "    \n",
    "    \n",
    "    cursor.execute(\"\"\"insert into BigMacPrice(Country_id, Date, LocalPrice, USDPrice, Source) Values(?,?,?,?,?)\"\"\",\n",
    "                    (\"TUR\",datetime.today(),price,usdPrice,\"mc donalds\"))\n",
    "    con.commit()"
   ]
  },
  {
   "cell_type": "code",
   "execution_count": null,
   "metadata": {},
   "outputs": [],
   "source": []
  }
 ],
 "metadata": {
  "kernelspec": {
   "display_name": "Python 3.10.5 64-bit (windows store)",
   "language": "python",
   "name": "python3"
  },
  "language_info": {
   "codemirror_mode": {
    "name": "ipython",
    "version": 3
   },
   "file_extension": ".py",
   "mimetype": "text/x-python",
   "name": "python",
   "nbconvert_exporter": "python",
   "pygments_lexer": "ipython3",
   "version": "3.10.7"
  },
  "orig_nbformat": 4,
  "vscode": {
   "interpreter": {
    "hash": "bda06091957aa278cfc5debc2e7273811f213fbb39c6db46ef63bd62b6fad66c"
   }
  }
 },
 "nbformat": 4,
 "nbformat_minor": 2
}
